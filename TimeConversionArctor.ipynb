{
 "cells": [
  {
   "cell_type": "code",
   "execution_count": 6,
   "metadata": {},
   "outputs": [],
   "source": [
    "# -*- coding: utf-8 -*-\n",
    "\"\"\"\n",
    "Created on Wed Sep  9 11:49:59 2020\n",
    "\n",
    "@author: Trevor\n",
    "\"\"\"\n",
    "import numpy as np\n",
    "import matplotlib.pyplot as plt\n",
    "import pickle\n",
    "from skyfield.api import load\n",
    "from astropy.time import Time\n",
    "from barycorrpy import utc_tdb\n",
    "\n",
    "###########   Working Directory   #####################   \n"
   ]
  },
  {
   "cell_type": "code",
   "execution_count": 7,
   "metadata": {},
   "outputs": [],
   "source": [
    "def mjd_bjd(MJD_UTC, flux, flux_err, raDeg, decDeg):\n",
    "    #fpath='/Users/Trevor/Pythoncode/HST/WASP79/W79_data/'\n",
    "    fpath = '/Users/marxena/Desktop/fit'\n",
    "    #fileObject = open(fpath+'.fits')\n",
    "    MJD_UTC, flux, flux_err, raDeg, decDeg, scidata_0, scidata, xybox = pickle.load(fileObject)\n",
    "    fileObject.close()\n",
    "    \n",
    "    stations_url = 'http://celestrak.com/NORAD/elements/science.txt'\n",
    "    satellites = load.tle_file(stations_url)\n",
    "    by_name = {sat.name: sat for sat in satellites}\n",
    "    satellite = by_name['HST']\n",
    "    print(satellite)\n",
    "    \n",
    "    # MJDUTC in correct format for datetime64\n",
    "    MJDUTC_dt = Time(MJD_UTC, format='mjd', scale='utc')\n",
    "    yrs =[]\n",
    "    mths = []\n",
    "    days = []\n",
    "    hours = []\n",
    "    mins = []\n",
    "    secs = []\n",
    "    \n",
    "    for i in np.arange(len(MJDUTC_dt)):\n",
    "        tt = MJDUTC_dt[i].datetime64\n",
    "        yrss = tt.astype('datetime64[Y]')\n",
    "        MM = tt.astype('datetime64[M]')\n",
    "        mthss = MM-yrss\n",
    "        dd = tt.astype('datetime64[D]')\n",
    "        dayss = dd-MM\n",
    "        hh = tt.astype('datetime64[h]')\n",
    "        hourss = hh-dd\n",
    "        mm = tt.astype('datetime64[m]')\n",
    "        minss = mm-hh\n",
    "        ss = tt.astype('datetime64[ns]')\n",
    "        secss = ss-mm\n",
    "    \n",
    "        yrs.append(yrss.astype(int)+1970)\n",
    "        mths.append(mthss.astype(int)+1)\n",
    "        days.append(dayss.astype(int)+1)\n",
    "        hours.append(hourss.astype(int))\n",
    "        mins.append(minss.astype(int))\n",
    "        secs.append(secss.astype('float')*1e-9)\n",
    "    \n",
    "    ts = load.timescale(builtin=True)\n",
    "    \n",
    "    tmin = ts.utc(yrs,mths,days,hours,mins,secs) \n",
    "    geocentric = satellite.at(tmin)\n",
    "    subpoint = geocentric.subpoint()\n",
    "    lati = subpoint.latitude.degrees\n",
    "    longit = subpoint.longitude.degrees\n",
    "    elevation = subpoint.elevation.m\n",
    "    \n",
    "    for i in np.arange(len(elevation)):\n",
    "        elevation[i] = int(elevation[i])\n",
    "        \n",
    "    JDUTC = MJD_UTC + 2400000.5\n",
    "    results=[]\n",
    "    for i in np.arange(len(JDUTC)):\n",
    "        results.append(utc_tdb.JDUTC_to_BJDTDB(JDUTC[i], ra= raDeg, dec = decDeg, \n",
    "                                               lat=lati[i], longi=longit[i], \n",
    "                                               alt=elevation[i]))\n",
    "        if i % 12 == 0:\n",
    "                print(i)\n",
    "    \n",
    "    BJD_TDB=[]\n",
    "    for i in np.arange(len(results)):\n",
    "        BJD_TDB.append(float(results[i][0]))\n",
    "    BJD_TDB = np.array(BJD_TDB)\n",
    "    \n",
    "    plt.figure()\n",
    "    plt.errorbar(BJD_TDB, flux, flux_err, fmt='o', color='k')\n",
    "    plt.xlabel('Time ($BJD_{TDB}$)')\n",
    "    plt.ylabel('Flux (e$^-$)')\n",
    "    plt.show()\n",
    "\n",
    "    outpath = fpath\n",
    "    fileObject = open(outpath+'BJD_TDB', 'wb')\n",
    "    pickle.dump([BJD_TDB, flux, flux_err], fileObject)\n",
    "    fileObject.close()    \n",
    "    \n",
    "    return BJD_TDB"
   ]
  },
  {
   "cell_type": "code",
   "execution_count": 8,
   "metadata": {},
   "outputs": [
    {
     "ename": "NameError",
     "evalue": "name 'mjd' is not defined",
     "output_type": "error",
     "traceback": [
      "\u001b[0;31m---------------------------------------------------------------------------\u001b[0m",
      "\u001b[0;31mNameError\u001b[0m                                 Traceback (most recent call last)",
      "\u001b[0;32m<ipython-input-8-57def7565600>\u001b[0m in \u001b[0;36m<module>\u001b[0;34m\u001b[0m\n\u001b[0;32m----> 1\u001b[0;31m \u001b[0mmjd\u001b[0m\u001b[0;34m(\u001b[0m\u001b[0;34m)\u001b[0m\u001b[0;34m\u001b[0m\u001b[0;34m\u001b[0m\u001b[0m\n\u001b[0m\u001b[1;32m      2\u001b[0m \u001b[0;31m#data file from online has the timestamp, the flux and flux error\u001b[0m\u001b[0;34m\u001b[0m\u001b[0;34m\u001b[0m\u001b[0;34m\u001b[0m\u001b[0m\n\u001b[1;32m      3\u001b[0m \u001b[0;31m#Three columns that have the three items, get the ra and dec which is the same for all\u001b[0m\u001b[0;34m\u001b[0m\u001b[0;34m\u001b[0m\u001b[0;34m\u001b[0m\u001b[0m\n\u001b[1;32m      4\u001b[0m \u001b[0;31m#RA_TARG and DA_TARG\u001b[0m\u001b[0;34m\u001b[0m\u001b[0;34m\u001b[0m\u001b[0;34m\u001b[0m\u001b[0m\n",
      "\u001b[0;31mNameError\u001b[0m: name 'mjd' is not defined"
     ]
    }
   ],
   "source": [
    "mjd()\n",
    "#data file from online has the timestamp, the flux and flux error \n",
    "#Three columns that have the three items, get the ra and dec which is the same for all \n",
    "#RA_TARG and DA_TARG "
   ]
  },
  {
   "cell_type": "code",
   "execution_count": null,
   "metadata": {},
   "outputs": [],
   "source": []
  }
 ],
 "metadata": {
  "kernelspec": {
   "display_name": "Python 3",
   "language": "python",
   "name": "python3"
  },
  "language_info": {
   "codemirror_mode": {
    "name": "ipython",
    "version": 3
   },
   "file_extension": ".py",
   "mimetype": "text/x-python",
   "name": "python",
   "nbconvert_exporter": "python",
   "pygments_lexer": "ipython3",
   "version": "3.8.5"
  }
 },
 "nbformat": 4,
 "nbformat_minor": 4
}
